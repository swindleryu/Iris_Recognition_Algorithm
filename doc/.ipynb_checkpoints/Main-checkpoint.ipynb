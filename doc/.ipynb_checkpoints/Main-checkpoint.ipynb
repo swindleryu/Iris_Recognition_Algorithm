{
 "cells": [
  {
   "cell_type": "code",
   "execution_count": 1,
   "metadata": {},
   "outputs": [
    {
     "ename": "ModuleNotFoundError",
     "evalue": "No module named 'IrisLocalization'",
     "output_type": "error",
     "traceback": [
      "\u001b[0;31m---------------------------------------------------------------------------\u001b[0m",
      "\u001b[0;31mModuleNotFoundError\u001b[0m                       Traceback (most recent call last)",
      "\u001b[0;32m<ipython-input-1-3fa90a462157>\u001b[0m in \u001b[0;36m<module>\u001b[0;34m()\u001b[0m\n\u001b[0;32m----> 1\u001b[0;31m \u001b[0;32mfrom\u001b[0m \u001b[0mIrisLocalization\u001b[0m \u001b[0;32mimport\u001b[0m \u001b[0;34m*\u001b[0m\u001b[0;34m\u001b[0m\u001b[0m\n\u001b[0m\u001b[1;32m      2\u001b[0m \u001b[0;32mfrom\u001b[0m \u001b[0mIrisNormalization\u001b[0m \u001b[0;32mimport\u001b[0m \u001b[0;34m*\u001b[0m\u001b[0;34m\u001b[0m\u001b[0m\n\u001b[1;32m      3\u001b[0m \u001b[0;32mfrom\u001b[0m \u001b[0mImageEnhancement\u001b[0m \u001b[0;32mimport\u001b[0m \u001b[0;34m*\u001b[0m\u001b[0;34m\u001b[0m\u001b[0m\n\u001b[1;32m      4\u001b[0m \u001b[0;32mfrom\u001b[0m \u001b[0mFeatureExtraction\u001b[0m \u001b[0;32mimport\u001b[0m \u001b[0;34m*\u001b[0m\u001b[0;34m\u001b[0m\u001b[0m\n\u001b[1;32m      5\u001b[0m \u001b[0;32mfrom\u001b[0m \u001b[0mIrisMatching\u001b[0m \u001b[0;32mimport\u001b[0m \u001b[0;34m*\u001b[0m\u001b[0;34m\u001b[0m\u001b[0m\n",
      "\u001b[0;31mModuleNotFoundError\u001b[0m: No module named 'IrisLocalization'"
     ]
    }
   ],
   "source": [
    "from IrisLocalization import *\n",
    "from IrisNormalization import *\n",
    "from ImageEnhancement import *\n",
    "from FeatureExtraction import *\n",
    "from IrisMatching import *\n",
    "from drawIrisLocalization import *\n",
    "from PerformanceEvaluation import *\n",
    "import cv2\n",
    "import numpy as np"
   ]
  },
  {
   "cell_type": "code",
   "execution_count": null,
   "metadata": {
    "collapsed": true
   },
   "outputs": [],
   "source": [
    "filenames= getFilenames()\n",
    "tfilenames= getFilenames(train = False)"
   ]
  },
  {
   "cell_type": "markdown",
   "metadata": {},
   "source": [
    "## Get Training data, but not need to run again\n",
    "Y_train = getLabel(rot = 7);\n",
    "X_train = getALLFeatures(filenames,Train = True,rot = True, size = 9); \n",
    "\n",
    "Y_test = getLabel(rot = 7, train = False);\n",
    "X_test = getALLFeatures(tfilenames, Train = False,rot = True,size = 9);  \n",
    "\n",
    "## Save to local data files\n",
    "Iris_X_train  = np.array(X_train );\n",
    "np.save('Iris_X_train7',Iris_X_train);\n",
    "Iris_X_test = np.array(X_test );\n",
    "np.save('Iris_X_test7',Iris_X_test);"
   ]
  },
  {
   "cell_type": "code",
   "execution_count": null,
   "metadata": {
    "collapsed": true
   },
   "outputs": [],
   "source": [
    "# Comment out below if you would like to test on 7 templates of rotation \n",
    "# from rot = [-3,-2,-1,0,1,2,3]\n",
    "X_train = np.load('Iris_X_train7.npy')\n",
    "Y_train = getLabel(rot = 7)\n",
    "X_test = np.load('Iris_X_test7.npy')\n",
    "Y_test = getLabel(rot = 7, train = False)"
   ]
  },
  {
   "cell_type": "code",
   "execution_count": null,
   "metadata": {
    "collapsed": true
   },
   "outputs": [],
   "source": [
    "# Comment out below if you would like to test on 11 templates of rotation \n",
    "# from rot = [-9,-6,-3,-2,-1,0,1,2,3,6,9]\n",
    "#X_train = np.load('Iris_X_train11.npy')\n",
    "#Y_train = getLabel(rot = 11)\n",
    "#X_test = np.load('Iris_X_test11.npy')\n",
    "#Y_test = getLabel(rot = 11, train = False)"
   ]
  },
  {
   "cell_type": "code",
   "execution_count": null,
   "metadata": {
    "collapsed": true
   },
   "outputs": [],
   "source": [
    "# Comment out below if you would like to test on 19 templates of rotation from (-9, 9)\n",
    "#X_train = np.load('Iris_X_train19.npy')\n",
    "#Y_train = getLabel(rot = 19)\n",
    "#X_test = np.load('Iris_X_test19.npy')\n",
    "#Y_test = getLabel(rot = 19, train = False)"
   ]
  },
  {
   "cell_type": "code",
   "execution_count": null,
   "metadata": {},
   "outputs": [],
   "source": [
    "print(np.shape(X_train))  #3*19*108 = 6156 or 3*11*108 = 3564 or 3*7*108 = 2268\n",
    "print(np.shape(X_test))\n",
    "print(np.shape(Y_train))\n",
    "print(np.shape(Y_test))"
   ]
  },
  {
   "cell_type": "code",
   "execution_count": null,
   "metadata": {
    "scrolled": true
   },
   "outputs": [],
   "source": [
    "########### test on PCA\n",
    "lda = LDA(n_components = 107)\n",
    "lda = lda.fit(X_train, Y_train)\n",
    "X_train_lda = lda.transform(X_train)\n",
    "X_test_lda = lda.transform(X_test)\n",
    "print((np.shape(X_train_lda), np.shape(X_test_lda )))      \n",
    "#X_train_lda, X_test_lda = reduceFeature(X_train, Y_train, X_test, 'LDA', ncomp = 107)"
   ]
  },
  {
   "cell_type": "code",
   "execution_count": null,
   "metadata": {},
   "outputs": [],
   "source": [
    "###predict: on 107 features LDA\n",
    "d1_pred_lda, accuracy_d1_lda = nearestCenterClassifier(X_train_lda,X_test_lda,Y_test,rot = True, distance = 1); print(accuracy_d1_lda)\n",
    "d2_pred_lda, accuracy_d2_lda = nearestCenterClassifier(X_train_lda,X_test_lda, Y_test,rot = True, distance = 2); print(accuracy_d2_lda)\n",
    "d3_pred_lda, accuracy_d3_lda = nearestCenterClassifier(X_train_lda,X_test_lda,Y_test,rot = True, distance = 3); print(accuracy_d3_lda)"
   ]
  },
  {
   "cell_type": "code",
   "execution_count": null,
   "metadata": {},
   "outputs": [],
   "source": [
    "### predict: on all features\n",
    "### takes several 2 mins to run all\n",
    "d1_pred_all, accuracy_d1_all = nearestCenterClassifier(X_train,X_test,Y_test,rot = True, distance = 1); print(accuracy_d1_all)\n",
    "d2_pred_all, accuracy_d2_all = nearestCenterClassifier(X_train,X_test, Y_test,rot = True,distance = 2); print(accuracy_d2_all)\n",
    "d3_pred_all, accuracy_d3_all = nearestCenterClassifier(X_train,X_test,Y_test, rot = True,distance = 3); print(accuracy_d3_all)"
   ]
  },
  {
   "cell_type": "code",
   "execution_count": null,
   "metadata": {
    "scrolled": true
   },
   "outputs": [],
   "source": [
    "getTable3([accuracy_d1_all,accuracy_d2_all,accuracy_d3_all],\n",
    "          [accuracy_d1_lda,accuracy_d2_lda,accuracy_d3_lda])        "
   ]
  },
  {
   "cell_type": "markdown",
   "metadata": {},
   "source": [
    "## Running Slow, Saved already"
   ]
  },
  {
   "cell_type": "code",
   "execution_count": null,
   "metadata": {
    "collapsed": true
   },
   "outputs": [],
   "source": [
    "ncomp = [50,60,70,80,83,85,90,95,100,107]"
   ]
  },
  {
   "cell_type": "markdown",
   "metadata": {
    "collapsed": true
   },
   "source": [
    "###predict: on 107 features LDA (Running Slow, saved already)\n",
    "accuracyList = []\n",
    "for i in range(0, len(ncomp)):\n",
    "    lda = LDA(n_components = ncomp[i] )\n",
    "    lda = lda.fit(X_train, Y_train)\n",
    "    X_train_lda = lda.transform(X_train)\n",
    "    X_test_lda = lda.transform(X_test)\n",
    "    d3_pred_lda, accuracy_d3_lda = nearestCenterClassifier(X_train_lda,X_test_lda,Y_test, distance = 3)\n",
    "    accuracyList.append(accuracy_d3_lda)\n",
    "np.save('accuracyList',accuracyList)"
   ]
  },
  {
   "cell_type": "code",
   "execution_count": null,
   "metadata": {},
   "outputs": [],
   "source": [
    "accuracyList = np.load('accuracyList.npy')\n",
    "drawCRRcurve(ncomp, accuracyList)"
   ]
  },
  {
   "cell_type": "code",
   "execution_count": null,
   "metadata": {},
   "outputs": [],
   "source": [
    "# Get Training data without rot\n",
    "filenames1= getFilenames()\n",
    "Y_train1 = getLabel(rot = 1)\n",
    "X_train1 = getALLFeatures(filenames1,Train = True,rot = False, size = 9)  # (2268, 1536)\n",
    "\n",
    "tfilenames1= getFilenames(train = False)\n",
    "Y_test1 = getLabel(rot = 1, train = False)\n",
    "X_test1 = getALLFeatures(tfilenames1, Train = False,rot = False,size = 9)  #(432, 1536)\n",
    "\n",
    "########### test on lda\n",
    "lda1 = LDA(n_components = 107)\n",
    "lda1 = lda1.fit(X_train1, Y_train1)\n",
    "X_train_lda1 = lda1.transform(X_train1)\n",
    "X_test_lda1 = lda1.transform(X_test1)\n",
    "print((np.shape(X_train_lda1), np.shape(X_test_lda1 ))) \n",
    "\n",
    "###predict: on 107 features LDA\n",
    "d1_pred_lda1, accuracy_d1_lda1 = nearestCenterClassifier(X_train_lda1,X_test_lda1,Y_test1,rot = False, distance = 1); print(accuracy_d1_lda1)\n",
    "d2_pred_lda1, accuracy_d2_lda1 = nearestCenterClassifier(X_train_lda1,X_test_lda1, Y_test1,rot = False, distance = 2); print(accuracy_d2_lda1)\n",
    "d3_pred_lda1, accuracy_d3_lda1 = nearestCenterClassifier(X_train_lda1,X_test_lda1,Y_test1,rot = False, distance = 3); print(accuracy_d3_lda1)"
   ]
  },
  {
   "cell_type": "code",
   "execution_count": null,
   "metadata": {},
   "outputs": [],
   "source": [
    "########### test on PCA\n",
    "lda = PCA(n_components = 107)\n",
    "lda = lda.fit(X_train, Y_train)\n",
    "X_train_pca = lda.transform(X_train)\n",
    "X_test_pca = lda.transform(X_test)\n",
    "print((np.shape(X_train_pca), np.shape(X_test_pca )))\n"
   ]
  },
  {
   "cell_type": "code",
   "execution_count": null,
   "metadata": {
    "scrolled": true
   },
   "outputs": [],
   "source": [
    "###predict: on 107 features PCA\n",
    "d1_pred_pca, accuracy_d1_pca = nearestCenterClassifier(X_train_pca,X_test_pca,Y_test, distance = 1); print(accuracy_d1_pca)\n",
    "d2_pred_pca, accuracy_d2_pca = nearestCenterClassifier(X_train_pca,X_test_pca, Y_test,distance = 2); print(accuracy_d2_pca)\n",
    "d3_pred_pca, accuracy_d3_pca = nearestCenterClassifier(X_train_pca,X_test_pca,Y_test, distance = 3); print(accuracy_d3_pca)"
   ]
  },
  {
   "cell_type": "markdown",
   "metadata": {},
   "source": [
    "## Comparation of LDA and PCA\n",
    "- As we can see from the following table, LDA is doing much better than PCA"
   ]
  },
  {
   "cell_type": "code",
   "execution_count": null,
   "metadata": {
    "scrolled": true
   },
   "outputs": [],
   "source": [
    "getTable4([accuracy_d1_lda,accuracy_d2_lda,accuracy_d3_lda],\n",
    "          [accuracy_d1_pca,accuracy_d2_pca,accuracy_d3_pca]) "
   ]
  },
  {
   "cell_type": "markdown",
   "metadata": {},
   "source": [
    "## Visualize the Iris Segmentation Effect"
   ]
  },
  {
   "cell_type": "code",
   "execution_count": null,
   "metadata": {},
   "outputs": [],
   "source": [
    "# Iris Localization for Training data\n",
    "drawAllIris(filenames, train = True)"
   ]
  },
  {
   "cell_type": "code",
   "execution_count": null,
   "metadata": {},
   "outputs": [],
   "source": [
    "# Iris Localization for Testing data\n",
    "drawAllIris(tfilenames, train = True)"
   ]
  },
  {
   "cell_type": "code",
   "execution_count": null,
   "metadata": {
    "collapsed": true
   },
   "outputs": [],
   "source": []
  }
 ],
 "metadata": {
  "kernelspec": {
   "display_name": "Python 3",
   "language": "python",
   "name": "python3"
  },
  "language_info": {
   "codemirror_mode": {
    "name": "ipython",
    "version": 3
   },
   "file_extension": ".py",
   "mimetype": "text/x-python",
   "name": "python",
   "nbconvert_exporter": "python",
   "pygments_lexer": "ipython3",
   "version": "3.6.1"
  }
 },
 "nbformat": 4,
 "nbformat_minor": 2
}
